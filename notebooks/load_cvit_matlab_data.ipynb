{
 "cells": [
  {
   "cell_type": "code",
   "execution_count": 127,
   "metadata": {},
   "outputs": [
    {
     "name": "stdout",
     "output_type": "stream",
     "text": [
      "Extracted label:  [12.]\n",
      "Extracted name:  [<HDF5 object reference>]\n",
      "Extracted text:  [<HDF5 object reference>]\n",
      "Path:  86/523_6_1_0_0.png\n",
      "Text:  broadest\n"
     ]
    }
   ],
   "source": [
    "import h5py\n",
    "import numpy as np\n",
    "import pandas as pd\n",
    "with h5py.File(\"IIIT-HWS-10K.mat\",'r') as f:\n",
    "    label = f['list']['ALLlabels'][1110]\n",
    "       \n",
    "    name = f['list']['ALLnames'][1110]\n",
    "    text = f['list']['ALLtext'][1110]\n",
    "    print('Extracted label: ' , label)\n",
    "    print('Extracted name: ' , name)\n",
    "    print('Extracted text: ' , text)\n",
    "    g = f[name[0]]\n",
    "    path = ''.join(chr(i[0]) for i in g[:])\n",
    "    print('Path: ', path)\n",
    "    g = f[text[0]]\n",
    "    text = ''.join(chr(i[0]) for i in g[:])\n",
    "    print('Text: ', text)"
   ]
  },
  {
   "cell_type": "code",
   "execution_count": 128,
   "metadata": {},
   "outputs": [],
   "source": [
    "#ALLnames, ALLlabels, ALLtext"
   ]
  },
  {
   "cell_type": "code",
   "execution_count": 104,
   "metadata": {},
   "outputs": [],
   "source": [
    "with h5py.File(\"IIIT-HWS-10K.mat\",'r') as f:\n",
    "    word_list = []\n",
    "    for i in range(len(f['list']['ALLtext'])):\n",
    "        j = f['list']['ALLtext'][i]\n",
    "        g = f[j[0]]\n",
    "        str1 = ''.join(chr(i[0]) for i in g[:])\n",
    "        word_list.append(str1)"
   ]
  },
  {
   "cell_type": "code",
   "execution_count": null,
   "metadata": {},
   "outputs": [],
   "source": [
    "with h5py.File(\"IIIT-HWS-10K.mat\",'r') as f:\n",
    "    label_list = []\n",
    "    path_list = []\n",
    "    for i in range(len(f['list']['ALLlabels'])):\n",
    "        if not i%10000:\n",
    "            print(i)\n",
    "        label = f['list']['ALLlabels'][i]\n",
    "        path_ref = f['list']['ALLnames'][i]\n",
    "        g = f[path_ref[0]]\n",
    "        path = ''.join(chr(i[0]) for i in g[:])\n",
    "        label_list.append(label)\n",
    "        path_list.append(path)"
   ]
  },
  {
   "cell_type": "code",
   "execution_count": 106,
   "metadata": {},
   "outputs": [
    {
     "data": {
      "text/plain": [
       "['appraise',\n",
       " 'appreciator',\n",
       " 'apprehends',\n",
       " 'apprises',\n",
       " 'appropriated',\n",
       " 'approximate',\n",
       " 'aprils',\n",
       " 'aquamarines',\n",
       " 'aquavit',\n",
       " 'arabians']"
      ]
     },
     "execution_count": 106,
     "metadata": {},
     "output_type": "execute_result"
    }
   ],
   "source": [
    "word_list[400:410]"
   ]
  },
  {
   "cell_type": "code",
   "execution_count": 118,
   "metadata": {},
   "outputs": [],
   "source": [
    "df = pd.DataFrame({'path': path_list, 'transcription': label_list2})"
   ]
  },
  {
   "cell_type": "code",
   "execution_count": 120,
   "metadata": {},
   "outputs": [
    {
     "data": {
      "text/html": [
       "<div>\n",
       "<style scoped>\n",
       "    .dataframe tbody tr th:only-of-type {\n",
       "        vertical-align: middle;\n",
       "    }\n",
       "\n",
       "    .dataframe tbody tr th {\n",
       "        vertical-align: top;\n",
       "    }\n",
       "\n",
       "    .dataframe thead th {\n",
       "        text-align: right;\n",
       "    }\n",
       "</style>\n",
       "<table border=\"1\" class=\"dataframe\">\n",
       "  <thead>\n",
       "    <tr style=\"text-align: right;\">\n",
       "      <th></th>\n",
       "      <th>path</th>\n",
       "      <th>transcription</th>\n",
       "    </tr>\n",
       "  </thead>\n",
       "  <tbody>\n",
       "    <tr>\n",
       "      <th>10000</th>\n",
       "      <td>820/10_2_3_0_0.png</td>\n",
       "      <td>acquisitive</td>\n",
       "    </tr>\n",
       "    <tr>\n",
       "      <th>10001</th>\n",
       "      <td>820/593_2_3_0_0.png</td>\n",
       "      <td>acquisitive</td>\n",
       "    </tr>\n",
       "    <tr>\n",
       "      <th>10002</th>\n",
       "      <td>820/201_4_3_0_0.png</td>\n",
       "      <td>acquisitive</td>\n",
       "    </tr>\n",
       "    <tr>\n",
       "      <th>10003</th>\n",
       "      <td>820/133_6_1_0_0.png</td>\n",
       "      <td>acquisitive</td>\n",
       "    </tr>\n",
       "    <tr>\n",
       "      <th>10004</th>\n",
       "      <td>820/494_6_3_0_0.png</td>\n",
       "      <td>acquisitive</td>\n",
       "    </tr>\n",
       "    <tr>\n",
       "      <th>10005</th>\n",
       "      <td>820/535_2_1_0_0.png</td>\n",
       "      <td>acquisitive</td>\n",
       "    </tr>\n",
       "    <tr>\n",
       "      <th>10006</th>\n",
       "      <td>820/464_1_4_0_0.png</td>\n",
       "      <td>acquisitive</td>\n",
       "    </tr>\n",
       "    <tr>\n",
       "      <th>10007</th>\n",
       "      <td>820/337_6_3_0_0.png</td>\n",
       "      <td>acquisitive</td>\n",
       "    </tr>\n",
       "    <tr>\n",
       "      <th>10008</th>\n",
       "      <td>820/91_4_3_0_0.png</td>\n",
       "      <td>acquisitive</td>\n",
       "    </tr>\n",
       "    <tr>\n",
       "      <th>10009</th>\n",
       "      <td>820/253_1_2_0_0.png</td>\n",
       "      <td>acquisitive</td>\n",
       "    </tr>\n",
       "    <tr>\n",
       "      <th>10010</th>\n",
       "      <td>820/198_1_3_0_0.png</td>\n",
       "      <td>acquisitive</td>\n",
       "    </tr>\n",
       "  </tbody>\n",
       "</table>\n",
       "</div>"
      ],
      "text/plain": [
       "                      path transcription\n",
       "10000   820/10_2_3_0_0.png   acquisitive\n",
       "10001  820/593_2_3_0_0.png   acquisitive\n",
       "10002  820/201_4_3_0_0.png   acquisitive\n",
       "10003  820/133_6_1_0_0.png   acquisitive\n",
       "10004  820/494_6_3_0_0.png   acquisitive\n",
       "10005  820/535_2_1_0_0.png   acquisitive\n",
       "10006  820/464_1_4_0_0.png   acquisitive\n",
       "10007  820/337_6_3_0_0.png   acquisitive\n",
       "10008   820/91_4_3_0_0.png   acquisitive\n",
       "10009  820/253_1_2_0_0.png   acquisitive\n",
       "10010  820/198_1_3_0_0.png   acquisitive"
      ]
     },
     "execution_count": 120,
     "metadata": {},
     "output_type": "execute_result"
    }
   ],
   "source": [
    "df.loc[10000:10010]"
   ]
  },
  {
   "cell_type": "code",
   "execution_count": null,
   "metadata": {},
   "outputs": [],
   "source": []
  }
 ],
 "metadata": {
  "kernelspec": {
   "display_name": "text_renderer",
   "language": "python",
   "name": "text_renderer"
  },
  "language_info": {
   "codemirror_mode": {
    "name": "ipython",
    "version": 3
   },
   "file_extension": ".py",
   "mimetype": "text/x-python",
   "name": "python",
   "nbconvert_exporter": "python",
   "pygments_lexer": "ipython3",
   "version": "3.8.3"
  }
 },
 "nbformat": 4,
 "nbformat_minor": 4
}
