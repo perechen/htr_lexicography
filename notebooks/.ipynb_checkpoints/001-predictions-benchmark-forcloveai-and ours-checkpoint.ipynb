{
 "cells": [
  {
   "cell_type": "code",
   "execution_count": 1,
   "metadata": {},
   "outputs": [],
   "source": [
    "# This notebook should be run from the application level\n",
    "# Check application/notebooks directory\n",
    "import editdistance"
   ]
  },
  {
   "cell_type": "code",
   "execution_count": 27,
   "metadata": {},
   "outputs": [],
   "source": [
    "def accuracy(act, pred):\n",
    "    match = [x==y for x,y in zip(act, pred)]\n",
    "    edit = [editdistance.eval(x, y) for x,y in zip(act, pred)]\n",
    "    edit2 = [calculate_levenshtein_score(x, y) for x,y in zip(act, pred)]\n",
    "    \n",
    "    return sum(match)/len(match), sum(edit)/len(edit), sum(edit2)/len(edit2)\n"
   ]
  },
  {
   "cell_type": "code",
   "execution_count": 37,
   "metadata": {},
   "outputs": [],
   "source": [
    "def calculate_levenshtein_score(s: str, t: str) -> float:\n",
    "    return editdistance.eval(s, t) / max(len(s), len(t))"
   ]
  },
  {
   "cell_type": "code",
   "execution_count": 43,
   "metadata": {},
   "outputs": [
    {
     "data": {
      "text/plain": [
       "5.990799539976999"
      ]
     },
     "execution_count": 43,
     "metadata": {},
     "output_type": "execute_result"
    }
   ],
   "source": [
    "sum([len(i) for i in list(res.ground_true.values)])/19999"
   ]
  },
  {
   "cell_type": "code",
   "execution_count": 44,
   "metadata": {},
   "outputs": [
    {
     "data": {
      "text/html": [
       "<div>\n",
       "<style scoped>\n",
       "    .dataframe tbody tr th:only-of-type {\n",
       "        vertical-align: middle;\n",
       "    }\n",
       "\n",
       "    .dataframe tbody tr th {\n",
       "        vertical-align: top;\n",
       "    }\n",
       "\n",
       "    .dataframe thead th {\n",
       "        text-align: right;\n",
       "    }\n",
       "</style>\n",
       "<table border=\"1\" class=\"dataframe\">\n",
       "  <thead>\n",
       "    <tr style=\"text-align: right;\">\n",
       "      <th></th>\n",
       "      <th>Unnamed: 0</th>\n",
       "      <th>path</th>\n",
       "      <th>file_name</th>\n",
       "      <th>pred_wbs</th>\n",
       "      <th>pred_wbs_full</th>\n",
       "      <th>pred_model</th>\n",
       "      <th>model_confidence</th>\n",
       "      <th>ground_true</th>\n",
       "    </tr>\n",
       "  </thead>\n",
       "  <tbody>\n",
       "    <tr>\n",
       "      <th>0</th>\n",
       "      <td>0</td>\n",
       "      <td>part8/17c_sample100k/HistJezXVIIw_Rozmyślać si...</td>\n",
       "      <td>HistJezXVIIw_Rozmyślać się-Rozrysować się_123.jpg</td>\n",
       "      <td>rozmyślnie</td>\n",
       "      <td>rozmyślnie</td>\n",
       "      <td>rozmyślnie</td>\n",
       "      <td>0.3513</td>\n",
       "      <td>rozmyślnie</td>\n",
       "    </tr>\n",
       "    <tr>\n",
       "      <th>1</th>\n",
       "      <td>1</td>\n",
       "      <td>part8/17c_sample100k/HistJezXVIIw_Rozmyślać si...</td>\n",
       "      <td>HistJezXVIIw_Rozmyślać się-Rozrysować się_136.jpg</td>\n",
       "      <td>rozmyślny</td>\n",
       "      <td>rozmyślny</td>\n",
       "      <td>rozmyślmy</td>\n",
       "      <td>0.6632</td>\n",
       "      <td>rozmyślny</td>\n",
       "    </tr>\n",
       "    <tr>\n",
       "      <th>2</th>\n",
       "      <td>2</td>\n",
       "      <td>part8/17c_sample100k/HistJezXVIIw_Rozmyślać si...</td>\n",
       "      <td>HistJezXVIIw_Rozmyślać się-Rozrysować się_254.jpg</td>\n",
       "      <td>roznosić</td>\n",
       "      <td>roznosić</td>\n",
       "      <td>roznosić</td>\n",
       "      <td>0.4991</td>\n",
       "      <td>roznosić</td>\n",
       "    </tr>\n",
       "    <tr>\n",
       "      <th>3</th>\n",
       "      <td>3</td>\n",
       "      <td>part8/17c_sample100k/HistJezXVIIw_Rozmyślać si...</td>\n",
       "      <td>HistJezXVIIw_Rozmyślać się-Rozrysować się_293.jpg</td>\n",
       "      <td>roznosić</td>\n",
       "      <td>roznosić</td>\n",
       "      <td>roznoslć</td>\n",
       "      <td>0.5407</td>\n",
       "      <td>roznosić</td>\n",
       "    </tr>\n",
       "    <tr>\n",
       "      <th>4</th>\n",
       "      <td>4</td>\n",
       "      <td>part8/17c_sample100k/HistJezXVIIw_Rozmyślać si...</td>\n",
       "      <td>HistJezXVIIw_Rozmyślać się-Rozrysować się_320.jpg</td>\n",
       "      <td>rozokowatość</td>\n",
       "      <td>rozokowatość</td>\n",
       "      <td>rozokowatośc</td>\n",
       "      <td>0.5305</td>\n",
       "      <td>rozokowatość</td>\n",
       "    </tr>\n",
       "  </tbody>\n",
       "</table>\n",
       "</div>"
      ],
      "text/plain": [
       "   Unnamed: 0                                               path  \\\n",
       "0           0  part8/17c_sample100k/HistJezXVIIw_Rozmyślać si...   \n",
       "1           1  part8/17c_sample100k/HistJezXVIIw_Rozmyślać si...   \n",
       "2           2  part8/17c_sample100k/HistJezXVIIw_Rozmyślać si...   \n",
       "3           3  part8/17c_sample100k/HistJezXVIIw_Rozmyślać si...   \n",
       "4           4  part8/17c_sample100k/HistJezXVIIw_Rozmyślać si...   \n",
       "\n",
       "                                           file_name      pred_wbs  \\\n",
       "0  HistJezXVIIw_Rozmyślać się-Rozrysować się_123.jpg    rozmyślnie   \n",
       "1  HistJezXVIIw_Rozmyślać się-Rozrysować się_136.jpg     rozmyślny   \n",
       "2  HistJezXVIIw_Rozmyślać się-Rozrysować się_254.jpg      roznosić   \n",
       "3  HistJezXVIIw_Rozmyślać się-Rozrysować się_293.jpg      roznosić   \n",
       "4  HistJezXVIIw_Rozmyślać się-Rozrysować się_320.jpg  rozokowatość   \n",
       "\n",
       "  pred_wbs_full    pred_model model_confidence   ground_true  \n",
       "0    rozmyślnie    rozmyślnie           0.3513    rozmyślnie  \n",
       "1     rozmyślny     rozmyślmy           0.6632     rozmyślny  \n",
       "2      roznosić      roznosić           0.4991      roznosić  \n",
       "3      roznosić      roznoslć           0.5407      roznosić  \n",
       "4  rozokowatość  rozokowatośc           0.5305  rozokowatość  "
      ]
     },
     "execution_count": 44,
     "metadata": {},
     "output_type": "execute_result"
    }
   ],
   "source": [
    "import pandas as pd\n",
    "res = pd.read_csv('data/predictions_output_ver2.csv')\n",
    "res = res.fillna('')\n",
    "res = res[res.ground_true != '']\n",
    "res.head()"
   ]
  },
  {
   "cell_type": "code",
   "execution_count": 45,
   "metadata": {},
   "outputs": [
    {
     "data": {
      "text/plain": [
       "19999"
      ]
     },
     "execution_count": 45,
     "metadata": {},
     "output_type": "execute_result"
    }
   ],
   "source": [
    "len(res)"
   ]
  },
  {
   "cell_type": "code",
   "execution_count": 49,
   "metadata": {},
   "outputs": [
    {
     "data": {
      "text/plain": [
       "(0.6655332766638332, 1.0993549677483874, 0.20326470301318353)"
      ]
     },
     "execution_count": 49,
     "metadata": {},
     "output_type": "execute_result"
    }
   ],
   "source": [
    "print(accuracy(list(res.ground_true.values), list(res.pred_wbs_full.values)))\n",
    "print(accuracy(list(res.ground_true.values), list(res.pred_model.values)))\n",
    "print(accuracy(list(res.ground_true.values), list(res.pred_wbs.values)))\n",
    "\n"
   ]
  },
  {
   "cell_type": "code",
   "execution_count": null,
   "metadata": {},
   "outputs": [],
   "source": []
  }
 ],
 "metadata": {
  "kernelspec": {
   "display_name": "handwritten-predictions",
   "language": "python",
   "name": "handwritten-predictions"
  },
  "language_info": {
   "codemirror_mode": {
    "name": "ipython",
    "version": 3
   },
   "file_extension": ".py",
   "mimetype": "text/x-python",
   "name": "python",
   "nbconvert_exporter": "python",
   "pygments_lexer": "ipython3",
   "version": "3.7.9"
  }
 },
 "nbformat": 4,
 "nbformat_minor": 4
}
